{
  "nbformat": 4,
  "nbformat_minor": 0,
  "metadata": {
    "colab": {
      "provenance": [],
      "authorship_tag": "ABX9TyMnrb9KB2PSXzi6q7qqNdLQ",
      "include_colab_link": true
    },
    "kernelspec": {
      "name": "python3",
      "display_name": "Python 3"
    },
    "language_info": {
      "name": "python"
    }
  },
  "cells": [
    {
      "cell_type": "markdown",
      "metadata": {
        "id": "view-in-github",
        "colab_type": "text"
      },
      "source": [
        "<a href=\"https://colab.research.google.com/github/Noboni2086/AiLab3/blob/main/AI%5BH%5Dlabtask3.ipynb\" target=\"_parent\"><img src=\"https://colab.research.google.com/assets/colab-badge.svg\" alt=\"Open In Colab\"/></a>"
      ]
    },
    {
      "cell_type": "code",
      "source": [
        "arr1 = [2, 6, 9, 4]\n",
        "print(arr1)\n",
        "\n",
        "print(type(arr1))\n",
        "# Prints the address of arr1 in memory\n",
        "print(hex(id(arr1)))\n",
        "\n",
        "# Assigning arr1 to arr2\n",
        "arr2 = arr1\n",
        "\n",
        "# Prints the address of arr2 in memory\n",
        "print(bin(id(arr2)))\n",
        "\n",
        "# Making a change in arr1\n",
        "arr1[1] = 7\n",
        "\n",
        "# Displaying the arrays\n",
        "#after putting value in index 1 of arr1\n",
        "print(\"value of array 1\")\n",
        "print(arr1)\n",
        "print(\"value of array 2\")\n",
        "print(arr2)\n"
      ],
      "metadata": {
        "colab": {
          "base_uri": "https://localhost:8080/"
        },
        "id": "dmcQDGOS8JVI",
        "outputId": "20880baa-a25b-429d-a56e-6b1a637cf93f"
      },
      "execution_count": null,
      "outputs": [
        {
          "output_type": "stream",
          "name": "stdout",
          "text": [
            "[2, 6, 9, 4]\n",
            "<class 'list'>\n",
            "0x78afb19a1a40\n",
            "0b11110001010111110110001100110100001101001000000\n",
            "value of array 1\n",
            "[2, 7, 9, 4]\n",
            "value of array 2\n",
            "[2, 7, 9, 4]\n"
          ]
        }
      ]
    },
    {
      "cell_type": "code",
      "source": [
        "\n",
        "import array as arr\n",
        "\n",
        "\n",
        "a=arr.array('i',[1,2,3,4,5])\n",
        "print (a)\n",
        "print (type(a))\n",
        "\n",
        "for value in a:\n",
        "    print(value)\n",
        "\n",
        "\n",
        "\n"
      ],
      "metadata": {
        "colab": {
          "base_uri": "https://localhost:8080/"
        },
        "id": "2u9aVqGC_98R",
        "outputId": "01f82008-8966-4851-ded9-150fda19bea7"
      },
      "execution_count": null,
      "outputs": [
        {
          "output_type": "stream",
          "name": "stdout",
          "text": [
            "array('i', [1, 2, 3, 4, 5])\n",
            "<class 'array.array'>\n",
            "1\n",
            "2\n",
            "3\n",
            "4\n",
            "5\n"
          ]
        }
      ]
    },
    {
      "cell_type": "code",
      "source": [
        "def shiftLeft(source, k):\n",
        "    newlist=[]\n",
        "    increment=k;\n",
        "    print(type(newlist))\n",
        "    for i in range(len(source)):\n",
        "          print(increment)\n",
        "          newlist[i]=source[increment]\n",
        "          newlist[increment]=0\n",
        "          if ( increment<len(newlist)):\n",
        "           increment+= 1\n",
        "           #print(newlist[i])\n",
        "\n",
        "    for i in range(len(newlist)):\n",
        "          print(newlist[i])\n",
        "\n",
        "\n",
        "n = int(input(\"Enter the number of elements: \"))\n",
        "source = []\n",
        "for i in range(n):\n",
        "    element = int(input(\"Enter element {}: \".format(i + 1)))\n",
        "    source.append(element)\n",
        "\n",
        "print(\"List entered:\", source)\n",
        "\n",
        "move = int(input(\"Enter the number of positions to shift: \"))\n",
        "\n",
        "shiftLeft(source, move)\n"
      ],
      "metadata": {
        "id": "GMYo0I7YDDNm",
        "colab": {
          "base_uri": "https://localhost:8080/",
          "height": 471
        },
        "outputId": "7962730a-582f-4647-b282-cd651d831864"
      },
      "execution_count": null,
      "outputs": [
        {
          "output_type": "stream",
          "name": "stdout",
          "text": [
            "Enter the number of elements: 3\n",
            "Enter element 1: 1\n",
            "Enter element 2: 2\n",
            "Enter element 3: 3\n",
            "List entered: [1, 2, 3]\n",
            "Enter the number of positions to shift: 1\n",
            "<class 'list'>\n",
            "1\n"
          ]
        },
        {
          "output_type": "error",
          "ename": "IndexError",
          "evalue": "list assignment index out of range",
          "traceback": [
            "\u001b[0;31m---------------------------------------------------------------------------\u001b[0m",
            "\u001b[0;31mIndexError\u001b[0m                                Traceback (most recent call last)",
            "\u001b[0;32m<ipython-input-49-2da57d52e6d0>\u001b[0m in \u001b[0;36m<cell line: 27>\u001b[0;34m()\u001b[0m\n\u001b[1;32m     25\u001b[0m \u001b[0mmove\u001b[0m \u001b[0;34m=\u001b[0m \u001b[0mint\u001b[0m\u001b[0;34m(\u001b[0m\u001b[0minput\u001b[0m\u001b[0;34m(\u001b[0m\u001b[0;34m\"Enter the number of positions to shift: \"\u001b[0m\u001b[0;34m)\u001b[0m\u001b[0;34m)\u001b[0m\u001b[0;34m\u001b[0m\u001b[0;34m\u001b[0m\u001b[0m\n\u001b[1;32m     26\u001b[0m \u001b[0;34m\u001b[0m\u001b[0m\n\u001b[0;32m---> 27\u001b[0;31m \u001b[0mshiftLeft\u001b[0m\u001b[0;34m(\u001b[0m\u001b[0msource\u001b[0m\u001b[0;34m,\u001b[0m \u001b[0mmove\u001b[0m\u001b[0;34m)\u001b[0m\u001b[0;34m\u001b[0m\u001b[0;34m\u001b[0m\u001b[0m\n\u001b[0m",
            "\u001b[0;32m<ipython-input-49-2da57d52e6d0>\u001b[0m in \u001b[0;36mshiftLeft\u001b[0;34m(source, k)\u001b[0m\n\u001b[1;32m      5\u001b[0m     \u001b[0;32mfor\u001b[0m \u001b[0mi\u001b[0m \u001b[0;32min\u001b[0m \u001b[0mrange\u001b[0m\u001b[0;34m(\u001b[0m\u001b[0mlen\u001b[0m\u001b[0;34m(\u001b[0m\u001b[0msource\u001b[0m\u001b[0;34m)\u001b[0m\u001b[0;34m)\u001b[0m\u001b[0;34m:\u001b[0m\u001b[0;34m\u001b[0m\u001b[0;34m\u001b[0m\u001b[0m\n\u001b[1;32m      6\u001b[0m           \u001b[0mprint\u001b[0m\u001b[0;34m(\u001b[0m\u001b[0mincrement\u001b[0m\u001b[0;34m)\u001b[0m\u001b[0;34m\u001b[0m\u001b[0;34m\u001b[0m\u001b[0m\n\u001b[0;32m----> 7\u001b[0;31m           \u001b[0mnewlist\u001b[0m\u001b[0;34m[\u001b[0m\u001b[0mi\u001b[0m\u001b[0;34m]\u001b[0m\u001b[0;34m=\u001b[0m\u001b[0msource\u001b[0m\u001b[0;34m[\u001b[0m\u001b[0mincrement\u001b[0m\u001b[0;34m]\u001b[0m\u001b[0;34m\u001b[0m\u001b[0;34m\u001b[0m\u001b[0m\n\u001b[0m\u001b[1;32m      8\u001b[0m           \u001b[0mnewlist\u001b[0m\u001b[0;34m[\u001b[0m\u001b[0mincrement\u001b[0m\u001b[0;34m]\u001b[0m\u001b[0;34m=\u001b[0m\u001b[0;36m0\u001b[0m\u001b[0;34m\u001b[0m\u001b[0;34m\u001b[0m\u001b[0m\n\u001b[1;32m      9\u001b[0m           \u001b[0;32mif\u001b[0m \u001b[0;34m(\u001b[0m \u001b[0mincrement\u001b[0m\u001b[0;34m<\u001b[0m\u001b[0mlen\u001b[0m\u001b[0;34m(\u001b[0m\u001b[0mnewlist\u001b[0m\u001b[0;34m)\u001b[0m\u001b[0;34m)\u001b[0m\u001b[0;34m:\u001b[0m\u001b[0;34m\u001b[0m\u001b[0;34m\u001b[0m\u001b[0m\n",
            "\u001b[0;31mIndexError\u001b[0m: list assignment index out of range"
          ]
        }
      ]
    },
    {
      "cell_type": "code",
      "source": [
        "\n",
        "\n"
      ],
      "metadata": {
        "id": "oNvQRMzPdk-B"
      },
      "execution_count": null,
      "outputs": []
    },
    {
      "cell_type": "code",
      "execution_count": null,
      "metadata": {
        "colab": {
          "base_uri": "https://localhost:8080/"
        },
        "id": "yWiuLG_hH2ie",
        "outputId": "ed54d837-4844-441e-bc4f-636c109864bd"
      },
      "outputs": [
        {
          "output_type": "stream",
          "name": "stdout",
          "text": [
            "<class 'list'>\n",
            "HI\n",
            "HI\n",
            "HI\n",
            "HI\n",
            "HI\n",
            "HI\n"
          ]
        }
      ],
      "source": [
        "def shiftLeft( source, k):\n",
        "    newlist=[(1,5,6,7)]*len(source)\n",
        "    print (type(newlist))\n",
        "\n",
        "    newlist[0]=source[k]\n",
        "    for i in range(len(source)):\n",
        "      print(\"HI\")\n",
        "\n",
        "\n",
        "\n",
        "source=[10,20,30,40,50,60]\n",
        "\n",
        "shiftLeft(source,3)"
      ]
    },
    {
      "cell_type": "code",
      "source": [
        "def shiftLeft(source, k):\n",
        "    n = len(source)\n",
        "    for i in range(n,0,-1):\n",
        "\n",
        "        if  k < n:\n",
        "            source[i] = source[k]\n",
        "            #source[k]=0;\n",
        "            k=k+1\n",
        "\n",
        "        else:\n",
        "            source[i] = 0\n",
        "\n",
        "\n",
        "n = int(input(\"Enter the number of elements: \"))\n",
        "source = []\n",
        "for i in range(n):\n",
        "    element = int(input(\"Enter element {}: \".format(i + 1)))\n",
        "    source.append(element)\n",
        "\n",
        "print(\"List entered:\", source)\n",
        "\n",
        "move = int(input(\"Enter the number of positions to shift: \"))\n",
        "\n",
        "shiftLeft(source, move)\n",
        "\n",
        "print(source)"
      ],
      "metadata": {
        "id": "JZPLGrGtoue9"
      },
      "execution_count": null,
      "outputs": []
    },
    {
      "cell_type": "code",
      "source": [
        "def shiftRight(source, k):\n",
        "\n",
        "    for i in range(len(source) - 1, -1, -1):\n",
        "        if i - k >= 0:\n",
        "            source[i] = source[i - k]\n",
        "        else:\n",
        "            source[i] = 0\n",
        "\n",
        "\n",
        "n = int(input(\"Enter the number of elements: \"))\n",
        "source = []\n",
        "for i in range(n):\n",
        "    element = int(input(\"Enter element {}: \".format(i + 1)))\n",
        "    source.append(element)\n",
        "\n",
        "print(\"List entered:\", source)\n",
        "\n",
        "move = int(input(\"Enter the number of positions to shift: \"))\n",
        "\n",
        "shiftRight(source, move)\n",
        "\n",
        "print(source)\n"
      ],
      "metadata": {
        "id": "E_bRxx4Kv5o0"
      },
      "execution_count": null,
      "outputs": []
    },
    {
      "cell_type": "code",
      "source": [
        "def removeall(source, size, element):\n",
        "    for i in range(size):\n",
        "        if source[i] == element:\n",
        "            source.remove(source[i])\n",
        "            source.append(0)\n",
        "\n",
        "\n",
        "n = int(input(\"Enter the number of elements: \"))\n",
        "source = []\n",
        "for i in range(n):\n",
        "    element = int(input(\"Enter element {}: \".format(i + 1)))\n",
        "    source.append(element)\n",
        "\n",
        "print(\"List entered:\", source)\n",
        "\n",
        "move = int(input(\"Which value you want to move: \"))\n",
        "\n",
        "removeall(source, len(source), move)\n",
        "\n",
        "print(source)"
      ],
      "metadata": {
        "id": "mUqlC26y0c4r"
      },
      "execution_count": null,
      "outputs": []
    },
    {
      "cell_type": "code",
      "source": [
        "def remove_one(source, size, idk):\n",
        "\n",
        "        source.remove(source[idk])\n",
        "        source.append(0)\n",
        "\n",
        "\n",
        "n = int(input(\"Enter the number of elements: \"))\n",
        "source = []\n",
        "for i in range(n):\n",
        "    element = int(input(\"Enter element {}: \".format(i + 1)))\n",
        "    source.append(element)\n",
        "\n",
        "print(\"List entered:\", source)\n",
        "\n",
        "idx = int(input(\"Which value you want to move: \"))\n",
        "\n",
        "remove_one(source, len(source), idx)\n",
        "\n",
        "print(source)\n",
        "\n"
      ],
      "metadata": {
        "id": "QPLA_8b_3LEL"
      },
      "execution_count": null,
      "outputs": []
    },
    {
      "cell_type": "code",
      "source": [
        "def rotateLeft(source, k):\n",
        "\n",
        "    rotated_array = source[k:] + source[:k]\n",
        "    #rotated_array2 = source[k:len(source)] + source[0:k]\n",
        "    print(rotated_array)\n",
        "    #print(rotated_array2)\n",
        "\n",
        "n = int(input(\"Enter the number of elements: \"))\n",
        "source = []\n",
        "for i in range(n):\n",
        "    element = int(input(\"Enter element {}: \".format(i + 1)))\n",
        "    source.append(element)\n",
        "\n",
        "print(\"List entered:\", source)\n",
        "\n",
        "move = int(input(\"Enter the number of positions to rotate: \"))\n",
        "\n",
        "\n",
        "\n",
        "print(source)\n",
        "rotateLeft(source, move)"
      ],
      "metadata": {
        "id": "9j5Wi46uGYDy"
      },
      "execution_count": null,
      "outputs": []
    },
    {
      "cell_type": "code",
      "source": [],
      "metadata": {
        "id": "lEEjJbDy-m8g"
      },
      "execution_count": null,
      "outputs": []
    }
  ]
}